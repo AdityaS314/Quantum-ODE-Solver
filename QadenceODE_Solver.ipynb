{
 "cells": [
  {
   "cell_type": "code",
   "execution_count": 25,
   "id": "e6e4be76",
   "metadata": {},
   "outputs": [],
   "source": [
    "import numpy as np\n",
    "import matplotlib.pyplot as plt\n",
    "import torch\n",
    "from qadence import *\n",
    "from qadence.types import BasisSet, ReuploadScaling"
   ]
  },
  {
   "cell_type": "code",
   "execution_count": 31,
   "id": "a4db4f7c",
   "metadata": {},
   "outputs": [],
   "source": [
    "def dfdx_equation(x: torch.Tensor, f: torch.Tensor) -> torch.Tensor:\n",
    "    \"\"\"Derivative as per the equation.\"\"\"\n",
    "    return 4*x**3 + x**2 - 2*x - 0.5"
   ]
  },
  {
   "cell_type": "code",
   "execution_count": 40,
   "id": "4f8455e8",
   "metadata": {},
   "outputs": [],
   "source": [
    "def rk4_solver(f, x0, y0, h, n):\n",
    "    x = [x0]\n",
    "    y = [y0]\n",
    "    for i in range(n):\n",
    "        k1 = h * f(x[-1], y[-1])\n",
    "        k2 = h * f(x[-1] + 0.5 * h, y[-1] + 0.5 * k1)\n",
    "        k3 = h * f(x[-1] + 0.5 * h, y[-1] + 0.5 * k2)\n",
    "        k4 = h * f(x[-1] + h, y[-1] + k3)\n",
    "        \n",
    "        x.append(x[-1] + h)\n",
    "        y.append(y[-1] + (k1 + 2*k2 + 2*k3 + k4) / 6)\n",
    "    \n",
    "    return np.array(x), np.array(y)"
   ]
  },
  {
   "cell_type": "code",
   "execution_count": 7,
   "id": "d8826c07",
   "metadata": {},
   "outputs": [],
   "source": [
    "def calc_deriv(outputs: torch.Tensor, inputs: torch.Tensor) -> torch.Tensor:\n",
    "    \"\"\"Compute a derivative of model that learns f(x), computes df/dx using torch.autograd.\"\"\"\n",
    "    grad = torch.autograd.grad(\n",
    "        outputs=outputs,\n",
    "        inputs=inputs,\n",
    "        grad_outputs = torch.ones_like(inputs),\n",
    "        create_graph = True,\n",
    "        retain_graph = True,\n",
    "    )[0]\n",
    "    return grad"
   ]
  },
  {
   "cell_type": "code",
   "execution_count": 37,
   "id": "38045de7",
   "metadata": {},
   "outputs": [],
   "source": [
    "# Mean-squared error as the comparison criterion\n",
    "criterion = torch.nn.MSELoss()\n",
    "def loss_fn(model: torch.nn.Module, inputs: torch.Tensor, x_reg: torch.Tensor, reg_weight: float) -> torch.Tensor:\n",
    "    \n",
    "    # Equation loss\n",
    "    model_output = model(inputs) \n",
    "    deriv_model = calc_deriv(model_output, inputs)\n",
    "    deriv_exact = dfdx_equation(inputs,model_output)\n",
    "    ode_loss = criterion(deriv_model, deriv_exact)\n",
    "\n",
    "    # Boundary loss, f(0) = 0\n",
    "    boundary_model = model(torch.tensor([[0.0]]))\n",
    "    boundary_exact = torch.tensor([[1.0]])\n",
    "    boundary_loss = criterion(boundary_model, boundary_exact)\n",
    "    \n",
    "    reg_model_output = model(x_reg)\n",
    "    reg_loss = criterion(reg_model_output, f_exact(x_reg))\n",
    "\n",
    "    return ode_loss + boundary_loss + reg_weight * reg_loss"
   ]
  },
  {
   "cell_type": "code",
   "execution_count": 9,
   "id": "75173fac",
   "metadata": {},
   "outputs": [],
   "source": [
    "def regularization_weight(nj, niter, ndrop, delta_j):\n",
    "    return 1 - np.tanh((nj - ndrop) / (delta_j * niter))"
   ]
  },
  {
   "cell_type": "code",
   "execution_count": 34,
   "id": "c5937d69",
   "metadata": {},
   "outputs": [],
   "source": [
    "def model_(n_qubits,depth,layers):\n",
    "    \n",
    "\n",
    "    # Feature map\n",
    "    fm1 = feature_map(\n",
    "        n_qubits = n_qubits,\n",
    "        param = \"x\",\n",
    "        fm_type = BasisSet.CHEBYSHEV,\n",
    "        reupload_scaling = ReuploadScaling.TOWER,\n",
    "    )\n",
    "    fm = chain()\n",
    "    for i in range(layers):\n",
    "        fm = chain(fm,fm1)\n",
    "\n",
    "    # Ansatz\n",
    "    ansatz = hea(n_qubits = n_qubits, depth = depth)\n",
    "\n",
    "    # Observable\n",
    "    observable = ising_hamiltonian(n_qubits=n_qubits)#add(Z(i) for i in range(n_qubits))\n",
    "\n",
    "    circuit = QuantumCircuit(n_qubits, chain(fm, ansatz))\n",
    "    Model = QNN(circuit = circuit, observable = observable, inputs = [\"x\"])\n",
    "    \n",
    "    return Model"
   ]
  },
  {
   "cell_type": "code",
   "execution_count": 33,
   "id": "4616f7e4",
   "metadata": {
    "scrolled": true
   },
   "outputs": [],
   "source": [
    "def main(n_qubits,n_epochs,n_points,depth,layers,learning_rate):\n",
    "    xmin = 0.0\n",
    "    xmax = 0.9\n",
    "    min_loss = float('inf')\n",
    "\n",
    "    model = model_(n_qubits,depth,layers)\n",
    "    optimizer = torch.optim.Adam(model.parameters(), lr = learning_rate)\n",
    "    max_grad_norm = 1.0  # Gradient clipping value\n",
    "\n",
    "    x_reg = torch.linspace(xmin, xmax, steps=20).unsqueeze(1)\n",
    "\n",
    "    for epoch in range(n_epochs):\n",
    "        optimizer.zero_grad()\n",
    "\n",
    "        # Training data. We unsqueeze essentially making each batch have a single x value.\n",
    "        x_train = (xmin + (xmax-xmin)*torch.rand(n_points, requires_grad = True)).unsqueeze(1)\n",
    "    \n",
    "        reg_weight = regularization_weight(epoch, n_epochs, ndrop=100, delta_j=0.1)\n",
    "    \n",
    "        loss = loss_fn(model, x_train, x_reg, reg_weight)\n",
    "    \n",
    "        loss.backward()\n",
    "    \n",
    "        # Gradient clipping\n",
    "        torch.nn.utils.clip_grad_norm_(model.parameters(), max_norm=max_grad_norm)\n",
    "    \n",
    "        optimizer.step()\n",
    "    \n",
    "        if loss.item() < min_loss:\n",
    "            min_loss = loss.item()\n",
    "            best_model_state = model.state_dict()\n",
    "    \n",
    "        if loss.item() <= 0.001:\n",
    "            break\n",
    "\n",
    "    # After training, load the best model state\n",
    "    if best_model_state is not None:\n",
    "        model.load_state_dict(best_model_state)\n",
    "    return model,min_loss"
   ]
  },
  {
   "cell_type": "code",
   "execution_count": 35,
   "id": "e10f3658",
   "metadata": {},
   "outputs": [
    {
     "name": "stdout",
     "output_type": "stream",
     "text": [
      "100%|██| 100/100 [1:45:47<00:00, 63.48s/trial, best loss: 0.0009406460908838697]\n",
      "Best hyperparameters: {'depth': 12.0, 'layers': 1.0, 'learning_rate': 0.0010903418744105688}\n"
     ]
    }
   ],
   "source": [
    "from hyperopt import fmin, tpe, hp, Trials, STATUS_OK\n",
    "from sklearn.datasets import load_iris\n",
    "from sklearn.model_selection import cross_val_score\n",
    "from sklearn.ensemble import RandomForestClassifier\n",
    "\n",
    "space = {\n",
    "    'depth': hp.quniform('depth', 3, 15, 3),\n",
    "    'layers': hp.quniform('layers', 1, 5, 1),\n",
    "    'learning_rate': hp.loguniform('learning_rate',  np.log(0.0001), np.log(0.1))\n",
    "}\n",
    "\n",
    "n_epochs = 250\n",
    "n_points = 20\n",
    "n_qubits = 6\n",
    "\n",
    "# Define the objective function\n",
    "def objective(params):\n",
    "    # Convert hyperparameters to integer where necessary\n",
    "    params['depth'] = int(params['depth'])\n",
    "    params['layers'] = int(params['layers'])\n",
    "    params['learning_rate'] = float(params['learning_rate'])\n",
    "\n",
    "    # Call the main function with the current hyperparameters\n",
    "    model, loss = main(n_qubits, n_epochs, n_points, \n",
    "                       params['depth'], params['layers'], params['learning_rate'])\n",
    "    \n",
    "    # Return the loss\n",
    "    return {'loss': loss, 'status': STATUS_OK}\n",
    "\n",
    "# Run the optimization\n",
    "trials = Trials()\n",
    "best = fmin(fn=objective, space=space, algo=tpe.suggest, max_evals=100, trials=trials)\n",
    "\n",
    "# Print the best hyperparameters\n",
    "print(\"Best hyperparameters:\", best)"
   ]
  },
  {
   "cell_type": "code",
   "execution_count": 43,
   "id": "62bb39db",
   "metadata": {},
   "outputs": [
    {
     "data": {
      "text/plain": [
       "<matplotlib.legend.Legend at 0x128ccb0d0>"
      ]
     },
     "execution_count": 43,
     "metadata": {},
     "output_type": "execute_result"
    },
    {
     "data": {
      "image/png": "[encoded data removed]",
      "text/plain": [
       "<Figure size 640x480 with 1 Axes>"
      ]
     },
     "metadata": {},
     "output_type": "display_data"
    }
   ],
   "source": [
    "xmin = 0\n",
    "xmax = 0.9\n",
    "x_test = torch.arange(xmin, xmax, step = 0.01).unsqueeze(1)\n",
    "result_exact = f_exact(x_test).flatten()\n",
    "\n",
    "best_model,_ = main(n_qubits, n_epochs, n_points, depth=int(best['depth']), layers=int(best['layers']), learning_rate=best['learning_rate'])\n",
    "\n",
    "x_rk4, y_rk4 = rk4_solver(dfdx_equation, 0.0, 0, 0.01, 90)\n",
    "result_model = best_model(x_test).flatten().detach()\n",
    "\n",
    "plt.plot(x_rk4, y_rk4, label='RK4 Solution', color='red')\n",
    "plt.plot(x_test, result_model, label = \" Trained model\")\n",
    "plt.legend()"
   ]
  }
 ],
 "metadata": {
  "kernelspec": {
   "display_name": "Python 3 (ipykernel)",
   "language": "python",
   "name": "python3"
  },
  "language_info": {
   "codemirror_mode": {
    "name": "ipython",
    "version": 3
   },
   "file_extension": ".py",
   "mimetype": "text/x-python",
   "name": "python",
   "nbconvert_exporter": "python",
   "pygments_lexer": "ipython3",
   "version": "3.11.5"
  }
 },
 "nbformat": 4,
 "nbformat_minor": 5
}
